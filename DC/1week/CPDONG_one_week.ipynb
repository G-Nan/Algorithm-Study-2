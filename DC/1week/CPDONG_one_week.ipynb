{
 "cells": [
  {
   "cell_type": "markdown",
   "metadata": {},
   "source": [
    "# 나"
   ]
  },
  {
   "cell_type": "code",
   "execution_count": 1,
   "metadata": {},
   "outputs": [
    {
     "name": "stdout",
     "output_type": "stream",
     "text": [
      "36\n"
     ]
    }
   ],
   "source": [
    "# 번호 두개 번갈아 배치\n",
    "# 번호 겹치게 더하기 해서 둘째 자리 숫자만 남기기\n",
    "# 두개의 숫자가 남을 때 까지 반복\n",
    "# 십의 자리가 아니면 앞에 0을 붙임(두자리 정수로 출력)\n",
    "\n",
    "a = list(map(int, input()))\n",
    "b = list(map(int, input()))\n",
    "\n",
    "com_num = [a[0], b[0], a[1], b[1], a[2], b[2], a[3], b[3], a[4], b[4], a[5], b[5], a[6], b[6], a[7], b[7]] # for 구문 사용하는게 더 좋을 듯\n",
    "\n",
    "while len(com_num) > 2:\n",
    "    n = []\n",
    "    for i in range(len(com_num)-1):\n",
    "        # range를 쓰면 안돼 고정적이기 떄문 유동적인 변화가 필요하기 때문에 / -1을 한 이유는 마지막 인덱스를 하면 아웃 오브 레인지 떠서 안돼\n",
    "        s = com_num[i] + com_num[i+1]\n",
    "        if s > 9:\n",
    "            n.append(int(str(s)[1])) # n % 10 이 더 좋아 보이긴함\n",
    "        else:\n",
    "            n.append(s)\n",
    "    com_num = n\n",
    "\n",
    "print(f\"{com_num[0]}{com_num[1]}\")"
   ]
  },
  {
   "cell_type": "code",
   "execution_count": null,
   "metadata": {},
   "outputs": [],
   "source": [
    "com_num = [] # 이렇게 번갈아하기 가능\n",
    "for i in range(len(a)):\n",
    "    com_num.append(a[i])\n",
    "    com_num.append(b[i])"
   ]
  },
  {
   "cell_type": "markdown",
   "metadata": {},
   "source": [
    "# 근환님"
   ]
  },
  {
   "cell_type": "code",
   "execution_count": 34,
   "metadata": {},
   "outputs": [],
   "source": [
    "# 대소문자로 된 단어가 주어지면(1,000,000를 넘기지 않음 / 대소문자 구분 X)\n",
    "# 가장 많이 사용된 알파벳을 대문자로 출력\n",
    "# 여러개일 경우 ? 출력\n",
    "# 출력을 대문자로 해야함"
   ]
  },
  {
   "cell_type": "code",
   "execution_count": 2,
   "metadata": {},
   "outputs": [
    {
     "name": "stdout",
     "output_type": "stream",
     "text": [
      "?\n"
     ]
    }
   ],
   "source": [
    "a = input().upper() # 시간초과ㅠㅠ\n",
    "\n",
    "n = {}\n",
    "\n",
    "for i in a:\n",
    "    n[i] = a.count(i)\n",
    "\n",
    "if list(n.values()).count(max(n.values())) >= 2:\n",
    "    print('?')\n",
    "else:\n",
    "    print(max(n))"
   ]
  },
  {
   "cell_type": "code",
   "execution_count": 47,
   "metadata": {},
   "outputs": [
    {
     "name": "stdout",
     "output_type": "stream",
     "text": [
      "S\n"
     ]
    }
   ],
   "source": [
    "a = input().upper() # 하 결국 답지 참고함\n",
    "a2 = list(set(a))\n",
    "n = []\n",
    "\n",
    "for i in a2:\n",
    "    co = a.count(i)\n",
    "    n.append(co)\n",
    "\n",
    "if n.count(max(n)) >= 2:\n",
    "    print('?')\n",
    "else:\n",
    "    print(a2[n.index(max(n))])"
   ]
  },
  {
   "cell_type": "markdown",
   "metadata": {},
   "source": [
    "# 치원님"
   ]
  },
  {
   "cell_type": "code",
   "execution_count": 56,
   "metadata": {},
   "outputs": [
    {
     "name": "stdout",
     "output_type": "stream",
     "text": [
      "3\n"
     ]
    }
   ],
   "source": [
    "# 첫줄에 N개가 주어지고\n",
    "# 2줄에 N개 만큼 숫자가 공백없이 나옴\n",
    "# 2줄에 모든 숫자를 더해라!\n",
    "\n",
    "a = list(map(int, input()))\n",
    "b = list(map(int, input()))\n",
    "\n",
    "print(sum(b))"
   ]
  },
  {
   "cell_type": "markdown",
   "metadata": {},
   "source": [
    "# 현풍이형"
   ]
  },
  {
   "cell_type": "code",
   "execution_count": 23,
   "metadata": {},
   "outputs": [
    {
     "name": "stdout",
     "output_type": "stream",
     "text": [
      "101010\n",
      "100100\n",
      "오류\n",
      "100100\n",
      "000011\n"
     ]
    }
   ],
   "source": [
    "N, M = map(int, input().split())\n",
    "\n",
    "for i in range(N):\n",
    "    a = input()\n",
    "    if len(a) == M:\n",
    "        print(a[::-1]) # a[시작:끝:보폭]\n",
    "    else:\n",
    "        print('오류')"
   ]
  },
  {
   "cell_type": "code",
   "execution_count": null,
   "metadata": {},
   "outputs": [],
   "source": []
  }
 ],
 "metadata": {
  "kernelspec": {
   "display_name": "Python 3",
   "language": "python",
   "name": "python3"
  },
  "language_info": {
   "codemirror_mode": {
    "name": "ipython",
    "version": 3
   },
   "file_extension": ".py",
   "mimetype": "text/x-python",
   "name": "python",
   "nbconvert_exporter": "python",
   "pygments_lexer": "ipython3",
   "version": "3.12.3"
  }
 },
 "nbformat": 4,
 "nbformat_minor": 2
}
